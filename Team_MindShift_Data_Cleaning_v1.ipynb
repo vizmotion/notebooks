{
  "nbformat": 4,
  "nbformat_minor": 0,
  "metadata": {
    "anaconda-cloud": {},
    "kernelspec": {
      "display_name": "Python [default]",
      "language": "python",
      "name": "python3"
    },
    "language_info": {
      "codemirror_mode": {
        "name": "ipython",
        "version": 3
      },
      "file_extension": ".py",
      "mimetype": "text/x-python",
      "name": "python",
      "nbconvert_exporter": "python",
      "pygments_lexer": "ipython3",
      "version": "3.5.6"
    },
    "colab": {
      "name": "Team MindShift Data_Cleaning_v1.ipynb",
      "provenance": [],
      "collapsed_sections": []
    }
  },
  "cells": [
    {
      "cell_type": "markdown",
      "metadata": {
        "id": "C9RXIZcnCRCt"
      },
      "source": [
        "# **** Read New Data Set Into Environment"
      ]
    },
    {
      "cell_type": "code",
      "metadata": {
        "id": "cjrAs4XLvoYB",
        "colab": {
          "base_uri": "https://localhost:8080/",
          "height": 172
        },
        "outputId": "82050e24-685b-4f02-c97d-fb158d8984f3"
      },
      "source": [
        "import pandas as pd\n",
        "\n",
        "df = pd.read_csv('http://teammindshift.com/data/bday.csv')\n",
        "df.describe()"
      ],
      "execution_count": 1,
      "outputs": [
        {
          "output_type": "execute_result",
          "data": {
            "text/html": [
              "<div>\n",
              "<style scoped>\n",
              "    .dataframe tbody tr th:only-of-type {\n",
              "        vertical-align: middle;\n",
              "    }\n",
              "\n",
              "    .dataframe tbody tr th {\n",
              "        vertical-align: top;\n",
              "    }\n",
              "\n",
              "    .dataframe thead th {\n",
              "        text-align: right;\n",
              "    }\n",
              "</style>\n",
              "<table border=\"1\" class=\"dataframe\">\n",
              "  <thead>\n",
              "    <tr style=\"text-align: right;\">\n",
              "      <th></th>\n",
              "      <th>Name</th>\n",
              "      <th>Bday</th>\n",
              "    </tr>\n",
              "  </thead>\n",
              "  <tbody>\n",
              "    <tr>\n",
              "      <th>count</th>\n",
              "      <td>20</td>\n",
              "      <td>20</td>\n",
              "    </tr>\n",
              "    <tr>\n",
              "      <th>unique</th>\n",
              "      <td>19</td>\n",
              "      <td>19</td>\n",
              "    </tr>\n",
              "    <tr>\n",
              "      <th>top</th>\n",
              "      <td>John Jones</td>\n",
              "      <td>10/17/77</td>\n",
              "    </tr>\n",
              "    <tr>\n",
              "      <th>freq</th>\n",
              "      <td>2</td>\n",
              "      <td>2</td>\n",
              "    </tr>\n",
              "  </tbody>\n",
              "</table>\n",
              "</div>"
            ],
            "text/plain": [
              "              Name      Bday\n",
              "count           20        20\n",
              "unique          19        19\n",
              "top     John Jones  10/17/77\n",
              "freq             2         2"
            ]
          },
          "metadata": {
            "tags": []
          },
          "execution_count": 1
        }
      ]
    },
    {
      "cell_type": "markdown",
      "metadata": {
        "id": "arXxCw4VExKp"
      },
      "source": [
        "# Convert Month to Date"
      ]
    },
    {
      "cell_type": "code",
      "metadata": {
        "id": "X2lnHHVnvoYH",
        "colab": {
          "base_uri": "https://localhost:8080/"
        },
        "outputId": "732af180-9a86-43bc-e15a-b6aaf23a2918"
      },
      "source": [
        "df['month'] = pd.to_datetime(df['Bday']).dt.month\n",
        "print(df)"
      ],
      "execution_count": 2,
      "outputs": [
        {
          "output_type": "stream",
          "text": [
            "                Name      Bday  month\n",
            "0         Jayda Mora   2/10/76      2\n",
            "1       Fatima Duran    6/4/74      6\n",
            "2    Addyson Bernard   9/21/78      9\n",
            "3         John Jones    7/9/77      7\n",
            "4         John Jones   5/14/79      5\n",
            "5          Kolby Cox   9/22/72      9\n",
            "6         Malik Byrd  10/29/73     10\n",
            "7        Angel Smith  10/17/77     10\n",
            "8        Riya Jordan   1/14/77      1\n",
            "9      Quinten Silva    6/2/74      6\n",
            "10    Memphis Miller   8/28/72      8\n",
            "11      Elliot Smith   8/24/70      8\n",
            "12  Mauricio Gilbert   10/8/76     10\n",
            "13  Jakobe Schroeder    2/2/79      2\n",
            "14       Yahir Hardy   9/12/77      9\n",
            "15     Rihanna Mejia  12/28/72     12\n",
            "16     Lewis Herrera  10/17/77     10\n",
            "17      Conor Duarte  12/22/79     12\n",
            "18   Elliot Clements  10/14/73     10\n",
            "19  Heaven Gillespie   6/18/76      6\n"
          ],
          "name": "stdout"
        }
      ]
    },
    {
      "cell_type": "markdown",
      "metadata": {
        "id": "IQrcQIytFA_h"
      },
      "source": [
        "# Get Count of Sizes\n"
      ]
    },
    {
      "cell_type": "code",
      "metadata": {
        "id": "rLATSswqvoYJ",
        "colab": {
          "base_uri": "https://localhost:8080/"
        },
        "outputId": "6dfa249e-a131-4555-99d6-c002155b1625"
      },
      "source": [
        "df1 = df.groupby(['month']).size()\n",
        "print(df1)"
      ],
      "execution_count": 3,
      "outputs": [
        {
          "output_type": "stream",
          "text": [
            "month\n",
            "1     1\n",
            "2     2\n",
            "5     1\n",
            "6     3\n",
            "7     1\n",
            "8     2\n",
            "9     3\n",
            "10    5\n",
            "12    2\n",
            "dtype: int64\n"
          ],
          "name": "stdout"
        }
      ]
    },
    {
      "cell_type": "markdown",
      "metadata": {
        "id": "ijigSV4P-nkP"
      },
      "source": [
        "# Save Dataframe\n"
      ]
    },
    {
      "cell_type": "code",
      "metadata": {
        "id": "xvE0DOco-obd"
      },
      "source": [
        "df.to_csv(\"newBday.csv\", index=False)"
      ],
      "execution_count": null,
      "outputs": []
    },
    {
      "cell_type": "markdown",
      "metadata": {
        "id": "sad6LH9TFTrx"
      },
      "source": [
        "# Plot Graph of Size"
      ]
    },
    {
      "cell_type": "code",
      "metadata": {
        "id": "Gd5_5jzcvoYL",
        "colab": {
          "base_uri": "https://localhost:8080/",
          "height": 282
        },
        "outputId": "12f82def-6ada-4c80-acbd-7dfb727d2694"
      },
      "source": [
        "import matplotlib.pyplot as plt\n",
        "df1.plot.bar()\n",
        "plt.show()"
      ],
      "execution_count": 4,
      "outputs": [
        {
          "output_type": "display_data",
          "data": {
            "image/png": "[encoded data removed]",
            "text/plain": [
              "<Figure size 432x288 with 1 Axes>"
            ]
          },
          "metadata": {
            "tags": [],
            "needs_background": "light"
          }
        }
      ]
    },
    {
      "cell_type": "markdown",
      "metadata": {
        "id": "Wt7kyZH7FaCb"
      },
      "source": [
        "# **** Transition with New Data Set => RawDataSet.csv"
      ]
    },
    {
      "cell_type": "code",
      "metadata": {
        "id": "hXYOORYkvoYN",
        "colab": {
          "base_uri": "https://localhost:8080/"
        },
        "outputId": "98683630-a78d-4922-defb-4473e0ea3483"
      },
      "source": [
        "url = 'http://teammindshift.com/data/RawDataSet.csv'\n",
        "dfclean = pd.read_csv(url)\n",
        "print(dfclean)"
      ],
      "execution_count": 5,
      "outputs": [
        {
          "output_type": "stream",
          "text": [
            "        X1     X2    X3       X4        X5         X6    X7\n",
            "0      11%  L0001  P101  96195.0  82727.70  36 months  23.0\n",
            "1      12%  L0002  P104  16488.0  16158.24  60 months   NaN\n",
            "2   10.50%  L0003  P104      NaN      0.00  60 months  20.0\n",
            "3    9.50%  L0004  P101  60626.0  50925.84  36 months  61.0\n",
            "4   18.40%  L0005  P104  12693.0  12566.07  36 months   8.0\n",
            "5    4.50%  L0006  P104  83305.0  72475.35  60 months  39.0\n",
            "6   10.40%  L0007  P104  25355.0  24847.90  60 months  80.0\n",
            "7   11.40%  L0008  P101    635.0    591.27  36 months  14.0\n",
            "8   10.30%  L0009  P345  40656.0  36590.40    60 oops  56.0\n",
            "9    9.50%  L0010  P345  63539.0  59091.27  36 months  59.0\n",
            "10   9.50%  L0011  P101      NaN      0.00    30 oops   NaN\n"
          ],
          "name": "stdout"
        }
      ]
    },
    {
      "cell_type": "markdown",
      "metadata": {
        "id": "hbJc2BEfFj5K"
      },
      "source": [
        "# More Data Set Understanding"
      ]
    },
    {
      "cell_type": "code",
      "metadata": {
        "id": "1wfmH0g6voYP",
        "colab": {
          "base_uri": "https://localhost:8080/"
        },
        "outputId": "4642e54c-8fa8-4e24-fe54-9f2f19763394"
      },
      "source": [
        "print(dfclean.describe(include='all').to_string())"
      ],
      "execution_count": 6,
      "outputs": [
        {
          "output_type": "stream",
          "text": [
            "           X1     X2    X3            X4            X5         X6         X7\n",
            "count      11     11    11      9.000000     11.000000         11   9.000000\n",
            "unique      9     11     3           NaN           NaN          4        NaN\n",
            "top     9.50%  L0003  P104           NaN           NaN  36 months        NaN\n",
            "freq        3      1     5           NaN           NaN          5        NaN\n",
            "mean      NaN    NaN   NaN  44388.000000  32361.276364        NaN  40.000000\n",
            "std       NaN    NaN   NaN  33358.699259  30062.624187        NaN  25.119713\n",
            "min       NaN    NaN   NaN    635.000000      0.000000        NaN   8.000000\n",
            "25%       NaN    NaN   NaN  16488.000000   6578.670000        NaN  20.000000\n",
            "50%       NaN    NaN   NaN  40656.000000  24847.900000        NaN  39.000000\n",
            "75%       NaN    NaN   NaN  63539.000000  55008.555000        NaN  59.000000\n",
            "max       NaN    NaN   NaN  96195.000000  82727.700000        NaN  80.000000\n"
          ],
          "name": "stdout"
        }
      ]
    },
    {
      "cell_type": "markdown",
      "metadata": {
        "id": "tlmCPw7-FrjQ"
      },
      "source": [
        "# Text Column Values Analysis"
      ]
    },
    {
      "cell_type": "code",
      "metadata": {
        "id": "sro19fNWvoYR",
        "colab": {
          "base_uri": "https://localhost:8080/"
        },
        "outputId": "e025eae0-7c5a-40fa-aae9-ad70be514c63"
      },
      "source": [
        "dfclean['X6'].value_counts()"
      ],
      "execution_count": 7,
      "outputs": [
        {
          "output_type": "execute_result",
          "data": {
            "text/plain": [
              "36 months    5\n",
              "60 months    4\n",
              "30 oops      1\n",
              "60 oops      1\n",
              "Name: X6, dtype: int64"
            ]
          },
          "metadata": {
            "tags": []
          },
          "execution_count": 7
        }
      ]
    },
    {
      "cell_type": "markdown",
      "metadata": {
        "id": "rRAzsff5FwxW"
      },
      "source": [
        "# Null or NAN Analysis"
      ]
    },
    {
      "cell_type": "code",
      "metadata": {
        "id": "1Ovw9paTvoYU",
        "colab": {
          "base_uri": "https://localhost:8080/",
          "height": 172
        },
        "outputId": "9d5da60f-35c9-4619-8ba2-e214ff52e378"
      },
      "source": [
        "dfclean[dfclean.isnull().values]"
      ],
      "execution_count": 8,
      "outputs": [
        {
          "output_type": "execute_result",
          "data": {
            "text/html": [
              "<div>\n",
              "<style scoped>\n",
              "    .dataframe tbody tr th:only-of-type {\n",
              "        vertical-align: middle;\n",
              "    }\n",
              "\n",
              "    .dataframe tbody tr th {\n",
              "        vertical-align: top;\n",
              "    }\n",
              "\n",
              "    .dataframe thead th {\n",
              "        text-align: right;\n",
              "    }\n",
              "</style>\n",
              "<table border=\"1\" class=\"dataframe\">\n",
              "  <thead>\n",
              "    <tr style=\"text-align: right;\">\n",
              "      <th></th>\n",
              "      <th>X1</th>\n",
              "      <th>X2</th>\n",
              "      <th>X3</th>\n",
              "      <th>X4</th>\n",
              "      <th>X5</th>\n",
              "      <th>X6</th>\n",
              "      <th>X7</th>\n",
              "    </tr>\n",
              "  </thead>\n",
              "  <tbody>\n",
              "    <tr>\n",
              "      <th>1</th>\n",
              "      <td>12%</td>\n",
              "      <td>L0002</td>\n",
              "      <td>P104</td>\n",
              "      <td>16488.0</td>\n",
              "      <td>16158.24</td>\n",
              "      <td>60 months</td>\n",
              "      <td>NaN</td>\n",
              "    </tr>\n",
              "    <tr>\n",
              "      <th>2</th>\n",
              "      <td>10.50%</td>\n",
              "      <td>L0003</td>\n",
              "      <td>P104</td>\n",
              "      <td>NaN</td>\n",
              "      <td>0.00</td>\n",
              "      <td>60 months</td>\n",
              "      <td>20.0</td>\n",
              "    </tr>\n",
              "    <tr>\n",
              "      <th>10</th>\n",
              "      <td>9.50%</td>\n",
              "      <td>L0011</td>\n",
              "      <td>P101</td>\n",
              "      <td>NaN</td>\n",
              "      <td>0.00</td>\n",
              "      <td>30 oops</td>\n",
              "      <td>NaN</td>\n",
              "    </tr>\n",
              "    <tr>\n",
              "      <th>10</th>\n",
              "      <td>9.50%</td>\n",
              "      <td>L0011</td>\n",
              "      <td>P101</td>\n",
              "      <td>NaN</td>\n",
              "      <td>0.00</td>\n",
              "      <td>30 oops</td>\n",
              "      <td>NaN</td>\n",
              "    </tr>\n",
              "  </tbody>\n",
              "</table>\n",
              "</div>"
            ],
            "text/plain": [
              "        X1     X2    X3       X4        X5         X6    X7\n",
              "1      12%  L0002  P104  16488.0  16158.24  60 months   NaN\n",
              "2   10.50%  L0003  P104      NaN      0.00  60 months  20.0\n",
              "10   9.50%  L0011  P101      NaN      0.00    30 oops   NaN\n",
              "10   9.50%  L0011  P101      NaN      0.00    30 oops   NaN"
            ]
          },
          "metadata": {
            "tags": []
          },
          "execution_count": 8
        }
      ]
    },
    {
      "cell_type": "markdown",
      "metadata": {
        "id": "iyVdAEHjFzZS"
      },
      "source": [
        "# Analysis of cells that equal 0"
      ]
    },
    {
      "cell_type": "code",
      "metadata": {
        "id": "tBAU5hqPvoYW",
        "colab": {
          "base_uri": "https://localhost:8080/",
          "height": 110
        },
        "outputId": "4e48761b-3aa6-466d-82e1-090d5147041b"
      },
      "source": [
        "dfclean[dfclean.eq(0).values]"
      ],
      "execution_count": 9,
      "outputs": [
        {
          "output_type": "execute_result",
          "data": {
            "text/html": [
              "<div>\n",
              "<style scoped>\n",
              "    .dataframe tbody tr th:only-of-type {\n",
              "        vertical-align: middle;\n",
              "    }\n",
              "\n",
              "    .dataframe tbody tr th {\n",
              "        vertical-align: top;\n",
              "    }\n",
              "\n",
              "    .dataframe thead th {\n",
              "        text-align: right;\n",
              "    }\n",
              "</style>\n",
              "<table border=\"1\" class=\"dataframe\">\n",
              "  <thead>\n",
              "    <tr style=\"text-align: right;\">\n",
              "      <th></th>\n",
              "      <th>X1</th>\n",
              "      <th>X2</th>\n",
              "      <th>X3</th>\n",
              "      <th>X4</th>\n",
              "      <th>X5</th>\n",
              "      <th>X6</th>\n",
              "      <th>X7</th>\n",
              "    </tr>\n",
              "  </thead>\n",
              "  <tbody>\n",
              "    <tr>\n",
              "      <th>2</th>\n",
              "      <td>10.50%</td>\n",
              "      <td>L0003</td>\n",
              "      <td>P104</td>\n",
              "      <td>NaN</td>\n",
              "      <td>0.0</td>\n",
              "      <td>60 months</td>\n",
              "      <td>20.0</td>\n",
              "    </tr>\n",
              "    <tr>\n",
              "      <th>10</th>\n",
              "      <td>9.50%</td>\n",
              "      <td>L0011</td>\n",
              "      <td>P101</td>\n",
              "      <td>NaN</td>\n",
              "      <td>0.0</td>\n",
              "      <td>30 oops</td>\n",
              "      <td>NaN</td>\n",
              "    </tr>\n",
              "  </tbody>\n",
              "</table>\n",
              "</div>"
            ],
            "text/plain": [
              "        X1     X2    X3  X4   X5         X6    X7\n",
              "2   10.50%  L0003  P104 NaN  0.0  60 months  20.0\n",
              "10   9.50%  L0011  P101 NaN  0.0    30 oops   NaN"
            ]
          },
          "metadata": {
            "tags": []
          },
          "execution_count": 9
        }
      ]
    },
    {
      "cell_type": "markdown",
      "metadata": {
        "id": "H3kD1THzF2k4"
      },
      "source": [
        "# Drop Column"
      ]
    },
    {
      "cell_type": "code",
      "metadata": {
        "id": "i43X3FNYvoYY",
        "colab": {
          "base_uri": "https://localhost:8080/"
        },
        "outputId": "6d3af3ee-ff52-456a-d1a9-e8ed63db6178"
      },
      "source": [
        "dfclean.drop(['X2'],inplace=True, axis=1)\n",
        "print(dfclean)"
      ],
      "execution_count": 10,
      "outputs": [
        {
          "output_type": "stream",
          "text": [
            "        X1    X3       X4        X5         X6    X7\n",
            "0      11%  P101  96195.0  82727.70  36 months  23.0\n",
            "1      12%  P104  16488.0  16158.24  60 months   NaN\n",
            "2   10.50%  P104      NaN      0.00  60 months  20.0\n",
            "3    9.50%  P101  60626.0  50925.84  36 months  61.0\n",
            "4   18.40%  P104  12693.0  12566.07  36 months   8.0\n",
            "5    4.50%  P104  83305.0  72475.35  60 months  39.0\n",
            "6   10.40%  P104  25355.0  24847.90  60 months  80.0\n",
            "7   11.40%  P101    635.0    591.27  36 months  14.0\n",
            "8   10.30%  P345  40656.0  36590.40    60 oops  56.0\n",
            "9    9.50%  P345  63539.0  59091.27  36 months  59.0\n",
            "10   9.50%  P101      NaN      0.00    30 oops   NaN\n"
          ],
          "name": "stdout"
        }
      ]
    },
    {
      "cell_type": "markdown",
      "metadata": {
        "id": "3OQpFsukF6Ri"
      },
      "source": [
        "# Drop Row"
      ]
    },
    {
      "cell_type": "code",
      "metadata": {
        "id": "TMCiBw_ovoYb",
        "colab": {
          "base_uri": "https://localhost:8080/"
        },
        "outputId": "d62d502c-b266-4077-b93b-426b8329ad6a"
      },
      "source": [
        "dfclean.drop(dfclean.index[10], inplace=True)\n",
        "print(dfclean)"
      ],
      "execution_count": 11,
      "outputs": [
        {
          "output_type": "stream",
          "text": [
            "       X1    X3       X4        X5         X6    X7\n",
            "0     11%  P101  96195.0  82727.70  36 months  23.0\n",
            "1     12%  P104  16488.0  16158.24  60 months   NaN\n",
            "2  10.50%  P104      NaN      0.00  60 months  20.0\n",
            "3   9.50%  P101  60626.0  50925.84  36 months  61.0\n",
            "4  18.40%  P104  12693.0  12566.07  36 months   8.0\n",
            "5   4.50%  P104  83305.0  72475.35  60 months  39.0\n",
            "6  10.40%  P104  25355.0  24847.90  60 months  80.0\n",
            "7  11.40%  P101    635.0    591.27  36 months  14.0\n",
            "8  10.30%  P345  40656.0  36590.40    60 oops  56.0\n",
            "9   9.50%  P345  63539.0  59091.27  36 months  59.0\n"
          ],
          "name": "stdout"
        }
      ]
    },
    {
      "cell_type": "code",
      "metadata": {
        "id": "YITtlRfCvoYh",
        "colab": {
          "base_uri": "https://localhost:8080/",
          "height": 357
        },
        "outputId": "e381408a-1d80-494a-9b8d-338dc8b505fd"
      },
      "source": [
        "dfclean"
      ],
      "execution_count": 12,
      "outputs": [
        {
          "output_type": "execute_result",
          "data": {
            "text/html": [
              "<div>\n",
              "<style scoped>\n",
              "    .dataframe tbody tr th:only-of-type {\n",
              "        vertical-align: middle;\n",
              "    }\n",
              "\n",
              "    .dataframe tbody tr th {\n",
              "        vertical-align: top;\n",
              "    }\n",
              "\n",
              "    .dataframe thead th {\n",
              "        text-align: right;\n",
              "    }\n",
              "</style>\n",
              "<table border=\"1\" class=\"dataframe\">\n",
              "  <thead>\n",
              "    <tr style=\"text-align: right;\">\n",
              "      <th></th>\n",
              "      <th>X1</th>\n",
              "      <th>X3</th>\n",
              "      <th>X4</th>\n",
              "      <th>X5</th>\n",
              "      <th>X6</th>\n",
              "      <th>X7</th>\n",
              "    </tr>\n",
              "  </thead>\n",
              "  <tbody>\n",
              "    <tr>\n",
              "      <th>0</th>\n",
              "      <td>11%</td>\n",
              "      <td>P101</td>\n",
              "      <td>96195.0</td>\n",
              "      <td>82727.70</td>\n",
              "      <td>36 months</td>\n",
              "      <td>23.0</td>\n",
              "    </tr>\n",
              "    <tr>\n",
              "      <th>1</th>\n",
              "      <td>12%</td>\n",
              "      <td>P104</td>\n",
              "      <td>16488.0</td>\n",
              "      <td>16158.24</td>\n",
              "      <td>60 months</td>\n",
              "      <td>NaN</td>\n",
              "    </tr>\n",
              "    <tr>\n",
              "      <th>2</th>\n",
              "      <td>10.50%</td>\n",
              "      <td>P104</td>\n",
              "      <td>NaN</td>\n",
              "      <td>0.00</td>\n",
              "      <td>60 months</td>\n",
              "      <td>20.0</td>\n",
              "    </tr>\n",
              "    <tr>\n",
              "      <th>3</th>\n",
              "      <td>9.50%</td>\n",
              "      <td>P101</td>\n",
              "      <td>60626.0</td>\n",
              "      <td>50925.84</td>\n",
              "      <td>36 months</td>\n",
              "      <td>61.0</td>\n",
              "    </tr>\n",
              "    <tr>\n",
              "      <th>4</th>\n",
              "      <td>18.40%</td>\n",
              "      <td>P104</td>\n",
              "      <td>12693.0</td>\n",
              "      <td>12566.07</td>\n",
              "      <td>36 months</td>\n",
              "      <td>8.0</td>\n",
              "    </tr>\n",
              "    <tr>\n",
              "      <th>5</th>\n",
              "      <td>4.50%</td>\n",
              "      <td>P104</td>\n",
              "      <td>83305.0</td>\n",
              "      <td>72475.35</td>\n",
              "      <td>60 months</td>\n",
              "      <td>39.0</td>\n",
              "    </tr>\n",
              "    <tr>\n",
              "      <th>6</th>\n",
              "      <td>10.40%</td>\n",
              "      <td>P104</td>\n",
              "      <td>25355.0</td>\n",
              "      <td>24847.90</td>\n",
              "      <td>60 months</td>\n",
              "      <td>80.0</td>\n",
              "    </tr>\n",
              "    <tr>\n",
              "      <th>7</th>\n",
              "      <td>11.40%</td>\n",
              "      <td>P101</td>\n",
              "      <td>635.0</td>\n",
              "      <td>591.27</td>\n",
              "      <td>36 months</td>\n",
              "      <td>14.0</td>\n",
              "    </tr>\n",
              "    <tr>\n",
              "      <th>8</th>\n",
              "      <td>10.30%</td>\n",
              "      <td>P345</td>\n",
              "      <td>40656.0</td>\n",
              "      <td>36590.40</td>\n",
              "      <td>60 oops</td>\n",
              "      <td>56.0</td>\n",
              "    </tr>\n",
              "    <tr>\n",
              "      <th>9</th>\n",
              "      <td>9.50%</td>\n",
              "      <td>P345</td>\n",
              "      <td>63539.0</td>\n",
              "      <td>59091.27</td>\n",
              "      <td>36 months</td>\n",
              "      <td>59.0</td>\n",
              "    </tr>\n",
              "  </tbody>\n",
              "</table>\n",
              "</div>"
            ],
            "text/plain": [
              "       X1    X3       X4        X5         X6    X7\n",
              "0     11%  P101  96195.0  82727.70  36 months  23.0\n",
              "1     12%  P104  16488.0  16158.24  60 months   NaN\n",
              "2  10.50%  P104      NaN      0.00  60 months  20.0\n",
              "3   9.50%  P101  60626.0  50925.84  36 months  61.0\n",
              "4  18.40%  P104  12693.0  12566.07  36 months   8.0\n",
              "5   4.50%  P104  83305.0  72475.35  60 months  39.0\n",
              "6  10.40%  P104  25355.0  24847.90  60 months  80.0\n",
              "7  11.40%  P101    635.0    591.27  36 months  14.0\n",
              "8  10.30%  P345  40656.0  36590.40    60 oops  56.0\n",
              "9   9.50%  P345  63539.0  59091.27  36 months  59.0"
            ]
          },
          "metadata": {
            "tags": []
          },
          "execution_count": 12
        }
      ]
    },
    {
      "cell_type": "markdown",
      "metadata": {
        "id": "kNcGMaHIF-6x"
      },
      "source": [
        "# Remove Everything but digits and ."
      ]
    },
    {
      "cell_type": "code",
      "metadata": {
        "id": "7ImOYUNwvoYk",
        "colab": {
          "base_uri": "https://localhost:8080/"
        },
        "outputId": "5ff72221-fb92-413c-febe-f7b15f7737bc"
      },
      "source": [
        "dfclean['X1'] = pd.to_numeric(dfclean['X1'].str.replace(r'[^-\\d.]',''))\n",
        "print(dfclean)                                       "
      ],
      "execution_count": 13,
      "outputs": [
        {
          "output_type": "stream",
          "text": [
            "     X1    X3       X4        X5         X6    X7\n",
            "0  11.0  P101  96195.0  82727.70  36 months  23.0\n",
            "1  12.0  P104  16488.0  16158.24  60 months   NaN\n",
            "2  10.5  P104      NaN      0.00  60 months  20.0\n",
            "3   9.5  P101  60626.0  50925.84  36 months  61.0\n",
            "4  18.4  P104  12693.0  12566.07  36 months   8.0\n",
            "5   4.5  P104  83305.0  72475.35  60 months  39.0\n",
            "6  10.4  P104  25355.0  24847.90  60 months  80.0\n",
            "7  11.4  P101    635.0    591.27  36 months  14.0\n",
            "8  10.3  P345  40656.0  36590.40    60 oops  56.0\n",
            "9   9.5  P345  63539.0  59091.27  36 months  59.0\n"
          ],
          "name": "stdout"
        }
      ]
    },
    {
      "cell_type": "markdown",
      "metadata": {
        "id": "rs4xXQNNGD1S"
      },
      "source": [
        "# Change text into numbers in place"
      ]
    },
    {
      "cell_type": "code",
      "metadata": {
        "id": "p0dlQvMKvoYn",
        "colab": {
          "base_uri": "https://localhost:8080/"
        },
        "outputId": "6d55194b-51f5-4b99-b484-484051ddf106"
      },
      "source": [
        "mapto = {\"36 months\": 36, \"60 months\": 60, \"60 oops\":60}\n",
        "dfclean['X6'] = dfclean['X6'].map(mapto)\n",
        "print(dfclean)"
      ],
      "execution_count": 14,
      "outputs": [
        {
          "output_type": "stream",
          "text": [
            "     X1    X3       X4        X5  X6    X7\n",
            "0  11.0  P101  96195.0  82727.70  36  23.0\n",
            "1  12.0  P104  16488.0  16158.24  60   NaN\n",
            "2  10.5  P104      NaN      0.00  60  20.0\n",
            "3   9.5  P101  60626.0  50925.84  36  61.0\n",
            "4  18.4  P104  12693.0  12566.07  36   8.0\n",
            "5   4.5  P104  83305.0  72475.35  60  39.0\n",
            "6  10.4  P104  25355.0  24847.90  60  80.0\n",
            "7  11.4  P101    635.0    591.27  36  14.0\n",
            "8  10.3  P345  40656.0  36590.40  60  56.0\n",
            "9   9.5  P345  63539.0  59091.27  36  59.0\n"
          ],
          "name": "stdout"
        }
      ]
    },
    {
      "cell_type": "markdown",
      "metadata": {
        "id": "0ggxwA2_GKvc"
      },
      "source": [
        "# Change text into numbers spreadout"
      ]
    },
    {
      "cell_type": "code",
      "metadata": {
        "id": "APNul9DOvoYq",
        "colab": {
          "base_uri": "https://localhost:8080/"
        },
        "outputId": "c08e12f6-b7db-4776-e833-5283cebfbba1"
      },
      "source": [
        "newcol = pd.get_dummies(dfclean['X3'])\n",
        "dfclean = pd.concat([dfclean, newcol], axis=1)\n",
        "print(dfclean)"
      ],
      "execution_count": 15,
      "outputs": [
        {
          "output_type": "stream",
          "text": [
            "     X1    X3       X4        X5  X6    X7  P101  P104  P345\n",
            "0  11.0  P101  96195.0  82727.70  36  23.0     1     0     0\n",
            "1  12.0  P104  16488.0  16158.24  60   NaN     0     1     0\n",
            "2  10.5  P104      NaN      0.00  60  20.0     0     1     0\n",
            "3   9.5  P101  60626.0  50925.84  36  61.0     1     0     0\n",
            "4  18.4  P104  12693.0  12566.07  36   8.0     0     1     0\n",
            "5   4.5  P104  83305.0  72475.35  60  39.0     0     1     0\n",
            "6  10.4  P104  25355.0  24847.90  60  80.0     0     1     0\n",
            "7  11.4  P101    635.0    591.27  36  14.0     1     0     0\n",
            "8  10.3  P345  40656.0  36590.40  60  56.0     0     0     1\n",
            "9   9.5  P345  63539.0  59091.27  36  59.0     0     0     1\n"
          ],
          "name": "stdout"
        }
      ]
    },
    {
      "cell_type": "markdown",
      "metadata": {
        "id": "QLlUJDhnGPqz"
      },
      "source": [
        "# Replace 0 with values"
      ]
    },
    {
      "cell_type": "code",
      "metadata": {
        "id": "KLe3mpo7voYu",
        "colab": {
          "base_uri": "https://localhost:8080/"
        },
        "outputId": "b3262f9c-f78b-4b59-d3ef-3c761307b772"
      },
      "source": [
        "dfclean.loc[dfclean.X5 == 0, 'X5'] = dfclean.X5.max()\n",
        "print(dfclean)"
      ],
      "execution_count": 16,
      "outputs": [
        {
          "output_type": "stream",
          "text": [
            "     X1    X3       X4        X5  X6    X7  P101  P104  P345\n",
            "0  11.0  P101  96195.0  82727.70  36  23.0     1     0     0\n",
            "1  12.0  P104  16488.0  16158.24  60   NaN     0     1     0\n",
            "2  10.5  P104      NaN  82727.70  60  20.0     0     1     0\n",
            "3   9.5  P101  60626.0  50925.84  36  61.0     1     0     0\n",
            "4  18.4  P104  12693.0  12566.07  36   8.0     0     1     0\n",
            "5   4.5  P104  83305.0  72475.35  60  39.0     0     1     0\n",
            "6  10.4  P104  25355.0  24847.90  60  80.0     0     1     0\n",
            "7  11.4  P101    635.0    591.27  36  14.0     1     0     0\n",
            "8  10.3  P345  40656.0  36590.40  60  56.0     0     0     1\n",
            "9   9.5  P345  63539.0  59091.27  36  59.0     0     0     1\n"
          ],
          "name": "stdout"
        }
      ]
    },
    {
      "cell_type": "markdown",
      "metadata": {
        "id": "vSiqvcuVGeEX"
      },
      "source": [
        "# Drop Old Column"
      ]
    },
    {
      "cell_type": "code",
      "metadata": {
        "id": "q1pqjSSHvoYw",
        "colab": {
          "base_uri": "https://localhost:8080/"
        },
        "outputId": "f60b43d0-9c25-4037-8ed8-660375fe1148"
      },
      "source": [
        "dfclean.drop(['X3'],inplace=True, axis=1)\n",
        "print(dfclean)"
      ],
      "execution_count": 17,
      "outputs": [
        {
          "output_type": "stream",
          "text": [
            "     X1       X4        X5  X6    X7  P101  P104  P345\n",
            "0  11.0  96195.0  82727.70  36  23.0     1     0     0\n",
            "1  12.0  16488.0  16158.24  60   NaN     0     1     0\n",
            "2  10.5      NaN  82727.70  60  20.0     0     1     0\n",
            "3   9.5  60626.0  50925.84  36  61.0     1     0     0\n",
            "4  18.4  12693.0  12566.07  36   8.0     0     1     0\n",
            "5   4.5  83305.0  72475.35  60  39.0     0     1     0\n",
            "6  10.4  25355.0  24847.90  60  80.0     0     1     0\n",
            "7  11.4    635.0    591.27  36  14.0     1     0     0\n",
            "8  10.3  40656.0  36590.40  60  56.0     0     0     1\n",
            "9   9.5  63539.0  59091.27  36  59.0     0     0     1\n"
          ],
          "name": "stdout"
        }
      ]
    },
    {
      "cell_type": "markdown",
      "metadata": {
        "id": "Xac0EpffGmid"
      },
      "source": [
        "# Modify NAN values"
      ]
    },
    {
      "cell_type": "code",
      "metadata": {
        "id": "2aBBaM5OvoYz",
        "colab": {
          "base_uri": "https://localhost:8080/"
        },
        "outputId": "137274a3-b735-46f0-dd88-dd74b1b9cd79"
      },
      "source": [
        "dfclean['X7'].fillna(value=dfclean['X7'].mean(), inplace=True)\n",
        "print(dfclean)"
      ],
      "execution_count": 18,
      "outputs": [
        {
          "output_type": "stream",
          "text": [
            "     X1       X4        X5  X6    X7  P101  P104  P345\n",
            "0  11.0  96195.0  82727.70  36  23.0     1     0     0\n",
            "1  12.0  16488.0  16158.24  60  40.0     0     1     0\n",
            "2  10.5      NaN  82727.70  60  20.0     0     1     0\n",
            "3   9.5  60626.0  50925.84  36  61.0     1     0     0\n",
            "4  18.4  12693.0  12566.07  36   8.0     0     1     0\n",
            "5   4.5  83305.0  72475.35  60  39.0     0     1     0\n",
            "6  10.4  25355.0  24847.90  60  80.0     0     1     0\n",
            "7  11.4    635.0    591.27  36  14.0     1     0     0\n",
            "8  10.3  40656.0  36590.40  60  56.0     0     0     1\n",
            "9   9.5  63539.0  59091.27  36  59.0     0     0     1\n"
          ],
          "name": "stdout"
        }
      ]
    },
    {
      "cell_type": "code",
      "metadata": {
        "id": "LmyS1B8xvoY2",
        "colab": {
          "base_uri": "https://localhost:8080/"
        },
        "outputId": "ef527e0b-3b4c-4dad-c333-bb8eb718b12f"
      },
      "source": [
        "dfclean['X4'].fillna(value=dfclean['X4'].min(), inplace=True)\n",
        "print(dfclean)"
      ],
      "execution_count": 19,
      "outputs": [
        {
          "output_type": "stream",
          "text": [
            "     X1       X4        X5  X6    X7  P101  P104  P345\n",
            "0  11.0  96195.0  82727.70  36  23.0     1     0     0\n",
            "1  12.0  16488.0  16158.24  60  40.0     0     1     0\n",
            "2  10.5    635.0  82727.70  60  20.0     0     1     0\n",
            "3   9.5  60626.0  50925.84  36  61.0     1     0     0\n",
            "4  18.4  12693.0  12566.07  36   8.0     0     1     0\n",
            "5   4.5  83305.0  72475.35  60  39.0     0     1     0\n",
            "6  10.4  25355.0  24847.90  60  80.0     0     1     0\n",
            "7  11.4    635.0    591.27  36  14.0     1     0     0\n",
            "8  10.3  40656.0  36590.40  60  56.0     0     0     1\n",
            "9   9.5  63539.0  59091.27  36  59.0     0     0     1\n"
          ],
          "name": "stdout"
        }
      ]
    },
    {
      "cell_type": "markdown",
      "metadata": {
        "id": "t-LnirKmGu_T"
      },
      "source": [
        "# Rename specific columns"
      ]
    },
    {
      "cell_type": "code",
      "metadata": {
        "id": "riCunkX-voY6",
        "colab": {
          "base_uri": "https://localhost:8080/"
        },
        "outputId": "8bf5b9cc-89f5-4ac1-9c47-4a175d26f0dd"
      },
      "source": [
        "dfclean.rename(columns={'X1':'V1','X4': 'V2'}, inplace=True)\n",
        "print(dfclean)"
      ],
      "execution_count": 20,
      "outputs": [
        {
          "output_type": "stream",
          "text": [
            "     V1       V2        X5  X6    X7  P101  P104  P345\n",
            "0  11.0  96195.0  82727.70  36  23.0     1     0     0\n",
            "1  12.0  16488.0  16158.24  60  40.0     0     1     0\n",
            "2  10.5    635.0  82727.70  60  20.0     0     1     0\n",
            "3   9.5  60626.0  50925.84  36  61.0     1     0     0\n",
            "4  18.4  12693.0  12566.07  36   8.0     0     1     0\n",
            "5   4.5  83305.0  72475.35  60  39.0     0     1     0\n",
            "6  10.4  25355.0  24847.90  60  80.0     0     1     0\n",
            "7  11.4    635.0    591.27  36  14.0     1     0     0\n",
            "8  10.3  40656.0  36590.40  60  56.0     0     0     1\n",
            "9   9.5  63539.0  59091.27  36  59.0     0     0     1\n"
          ],
          "name": "stdout"
        }
      ]
    },
    {
      "cell_type": "markdown",
      "metadata": {
        "id": "xhSllxkfG10b"
      },
      "source": [
        "# Rename all columns"
      ]
    },
    {
      "cell_type": "code",
      "metadata": {
        "id": "KZocCVbkvoY-",
        "colab": {
          "base_uri": "https://localhost:8080/"
        },
        "outputId": "981eafbd-5977-4dbb-acdb-c327afea5c4b"
      },
      "source": [
        "names = ['percent', 'value1', 'value2', 'months','value3', 'P101', 'P104', 'P345']\n",
        "dfclean.columns = names\n",
        "print(dfclean)"
      ],
      "execution_count": 21,
      "outputs": [
        {
          "output_type": "stream",
          "text": [
            "   percent   value1    value2  months  value3  P101  P104  P345\n",
            "0     11.0  96195.0  82727.70      36    23.0     1     0     0\n",
            "1     12.0  16488.0  16158.24      60    40.0     0     1     0\n",
            "2     10.5    635.0  82727.70      60    20.0     0     1     0\n",
            "3      9.5  60626.0  50925.84      36    61.0     1     0     0\n",
            "4     18.4  12693.0  12566.07      36     8.0     0     1     0\n",
            "5      4.5  83305.0  72475.35      60    39.0     0     1     0\n",
            "6     10.4  25355.0  24847.90      60    80.0     0     1     0\n",
            "7     11.4    635.0    591.27      36    14.0     1     0     0\n",
            "8     10.3  40656.0  36590.40      60    56.0     0     0     1\n",
            "9      9.5  63539.0  59091.27      36    59.0     0     0     1\n"
          ],
          "name": "stdout"
        }
      ]
    },
    {
      "cell_type": "markdown",
      "metadata": {
        "id": "ptVcdUJtCCxw"
      },
      "source": [
        "# ***** Transition to SCORES DATA\n",
        "This is the data for practice with some examples but create your own"
      ]
    },
    {
      "cell_type": "code",
      "metadata": {
        "id": "_vMX31fvvoZB",
        "colab": {
          "base_uri": "https://localhost:8080/",
          "height": 790
        },
        "outputId": "df054641-3520-49fe-9355-4e7b48ff6213"
      },
      "source": [
        "import pandas as pd\n",
        "dfscores = pd.read_csv('http://teammindshift.com/data/scores.csv')\n",
        "dfscores"
      ],
      "execution_count": 22,
      "outputs": [
        {
          "output_type": "execute_result",
          "data": {
            "text/html": [
              "<div>\n",
              "<style scoped>\n",
              "    .dataframe tbody tr th:only-of-type {\n",
              "        vertical-align: middle;\n",
              "    }\n",
              "\n",
              "    .dataframe tbody tr th {\n",
              "        vertical-align: top;\n",
              "    }\n",
              "\n",
              "    .dataframe thead th {\n",
              "        text-align: right;\n",
              "    }\n",
              "</style>\n",
              "<table border=\"1\" class=\"dataframe\">\n",
              "  <thead>\n",
              "    <tr style=\"text-align: right;\">\n",
              "      <th></th>\n",
              "      <th>Timestamp</th>\n",
              "      <th>Entering Grade Level</th>\n",
              "      <th>District</th>\n",
              "      <th>Birth Month</th>\n",
              "      <th>OLSAT Verbal Score</th>\n",
              "      <th>OLSAT Verbal Percentile</th>\n",
              "      <th>NNAT Non Verbal Raw Score</th>\n",
              "      <th>NNAT Non Verbal Percentile</th>\n",
              "      <th>Overall Score</th>\n",
              "      <th>School Preferences</th>\n",
              "      <th>School Assigned</th>\n",
              "      <th>Will you enroll there?</th>\n",
              "    </tr>\n",
              "  </thead>\n",
              "  <tbody>\n",
              "    <tr>\n",
              "      <th>0</th>\n",
              "      <td>4/8/2017 6:44:01</td>\n",
              "      <td>1</td>\n",
              "      <td>6.0</td>\n",
              "      <td>September</td>\n",
              "      <td>28</td>\n",
              "      <td>99</td>\n",
              "      <td>45</td>\n",
              "      <td>99</td>\n",
              "      <td>99</td>\n",
              "      <td>NEST+m, TAG, Anderson, Q300</td>\n",
              "      <td>NEST</td>\n",
              "      <td>YES</td>\n",
              "    </tr>\n",
              "    <tr>\n",
              "      <th>1</th>\n",
              "      <td>4/7/2017 10:40:45</td>\n",
              "      <td>K</td>\n",
              "      <td>NaN</td>\n",
              "      <td>August</td>\n",
              "      <td>25</td>\n",
              "      <td>99</td>\n",
              "      <td>39</td>\n",
              "      <td>99</td>\n",
              "      <td>99</td>\n",
              "      <td>Anderson, NEST+m</td>\n",
              "      <td>NaN</td>\n",
              "      <td>Maybe</td>\n",
              "    </tr>\n",
              "    <tr>\n",
              "      <th>2</th>\n",
              "      <td>4/7/2017 10:41:56</td>\n",
              "      <td>1</td>\n",
              "      <td>NaN</td>\n",
              "      <td>March</td>\n",
              "      <td>27</td>\n",
              "      <td>96</td>\n",
              "      <td>42</td>\n",
              "      <td>99</td>\n",
              "      <td>98</td>\n",
              "      <td>NaN</td>\n",
              "      <td>NaN</td>\n",
              "      <td>Maybe</td>\n",
              "    </tr>\n",
              "    <tr>\n",
              "      <th>3</th>\n",
              "      <td>4/7/2017 10:43:31</td>\n",
              "      <td>K</td>\n",
              "      <td>NaN</td>\n",
              "      <td>September</td>\n",
              "      <td>23</td>\n",
              "      <td>97</td>\n",
              "      <td>40</td>\n",
              "      <td>99</td>\n",
              "      <td>98</td>\n",
              "      <td>NaN</td>\n",
              "      <td>NaN</td>\n",
              "      <td>NaN</td>\n",
              "    </tr>\n",
              "    <tr>\n",
              "      <th>4</th>\n",
              "      <td>4/10/2017 10:18:34</td>\n",
              "      <td>K</td>\n",
              "      <td>22.0</td>\n",
              "      <td>April</td>\n",
              "      <td>25</td>\n",
              "      <td>98</td>\n",
              "      <td>38</td>\n",
              "      <td>99</td>\n",
              "      <td>99</td>\n",
              "      <td>Brooklyn School of Inquiry</td>\n",
              "      <td>Currently - local Brooklyn dual language</td>\n",
              "      <td>Maybe</td>\n",
              "    </tr>\n",
              "    <tr>\n",
              "      <th>...</th>\n",
              "      <td>...</td>\n",
              "      <td>...</td>\n",
              "      <td>...</td>\n",
              "      <td>...</td>\n",
              "      <td>...</td>\n",
              "      <td>...</td>\n",
              "      <td>...</td>\n",
              "      <td>...</td>\n",
              "      <td>...</td>\n",
              "      <td>...</td>\n",
              "      <td>...</td>\n",
              "      <td>...</td>\n",
              "    </tr>\n",
              "    <tr>\n",
              "      <th>111</th>\n",
              "      <td>6/7/2017 23:25:27</td>\n",
              "      <td>K</td>\n",
              "      <td>2.0</td>\n",
              "      <td>December</td>\n",
              "      <td>99</td>\n",
              "      <td>99</td>\n",
              "      <td>99</td>\n",
              "      <td>99</td>\n",
              "      <td>99</td>\n",
              "      <td>NaN</td>\n",
              "      <td>NaN</td>\n",
              "      <td>Yes</td>\n",
              "    </tr>\n",
              "    <tr>\n",
              "      <th>112</th>\n",
              "      <td>6/20/2017 16:06:54</td>\n",
              "      <td>1</td>\n",
              "      <td>2.0</td>\n",
              "      <td>August</td>\n",
              "      <td>30</td>\n",
              "      <td>99</td>\n",
              "      <td>44</td>\n",
              "      <td>99</td>\n",
              "      <td>99</td>\n",
              "      <td>Lower Lab, Anderson, PS 11, NEST + m, Ps 33</td>\n",
              "      <td>Lower lab (off waitlist)</td>\n",
              "      <td>Yes</td>\n",
              "    </tr>\n",
              "    <tr>\n",
              "      <th>113</th>\n",
              "      <td>6/21/2017 22:52:59</td>\n",
              "      <td>K</td>\n",
              "      <td>20.0</td>\n",
              "      <td>July</td>\n",
              "      <td>97</td>\n",
              "      <td>97</td>\n",
              "      <td>97</td>\n",
              "      <td>99</td>\n",
              "      <td>98</td>\n",
              "      <td>PS229</td>\n",
              "      <td>Ps205</td>\n",
              "      <td>Yes</td>\n",
              "    </tr>\n",
              "    <tr>\n",
              "      <th>114</th>\n",
              "      <td>9/14/2017 16:39:55</td>\n",
              "      <td>K</td>\n",
              "      <td>32.0</td>\n",
              "      <td>February</td>\n",
              "      <td>26</td>\n",
              "      <td>99</td>\n",
              "      <td>40</td>\n",
              "      <td>99</td>\n",
              "      <td>99</td>\n",
              "      <td>NaN</td>\n",
              "      <td>NaN</td>\n",
              "      <td>Maybe</td>\n",
              "    </tr>\n",
              "    <tr>\n",
              "      <th>115</th>\n",
              "      <td>11/19/2017 17:07:05</td>\n",
              "      <td>K</td>\n",
              "      <td>4.0</td>\n",
              "      <td>April</td>\n",
              "      <td>19</td>\n",
              "      <td>84</td>\n",
              "      <td>33</td>\n",
              "      <td>95</td>\n",
              "      <td>91</td>\n",
              "      <td>Ps 102</td>\n",
              "      <td>Ps102</td>\n",
              "      <td>Yes</td>\n",
              "    </tr>\n",
              "  </tbody>\n",
              "</table>\n",
              "<p>116 rows × 12 columns</p>\n",
              "</div>"
            ],
            "text/plain": [
              "               Timestamp  ... Will you enroll there?\n",
              "0       4/8/2017 6:44:01  ...                    YES\n",
              "1      4/7/2017 10:40:45  ...                  Maybe\n",
              "2      4/7/2017 10:41:56  ...                  Maybe\n",
              "3      4/7/2017 10:43:31  ...                    NaN\n",
              "4     4/10/2017 10:18:34  ...                  Maybe\n",
              "..                   ...  ...                    ...\n",
              "111    6/7/2017 23:25:27  ...                    Yes\n",
              "112   6/20/2017 16:06:54  ...                    Yes\n",
              "113   6/21/2017 22:52:59  ...                    Yes\n",
              "114   9/14/2017 16:39:55  ...                  Maybe\n",
              "115  11/19/2017 17:07:05  ...                    Yes\n",
              "\n",
              "[116 rows x 12 columns]"
            ]
          },
          "metadata": {
            "tags": []
          },
          "execution_count": 22
        }
      ]
    },
    {
      "cell_type": "code",
      "metadata": {
        "id": "-JjbSZDe94ME",
        "colab": {
          "base_uri": "https://localhost:8080/",
          "height": 492
        },
        "outputId": "fa4d521a-5feb-43e8-c2cb-435884ba3c61"
      },
      "source": [
        "dfscores.describe(include='all')"
      ],
      "execution_count": 23,
      "outputs": [
        {
          "output_type": "execute_result",
          "data": {
            "text/html": [
              "<div>\n",
              "<style scoped>\n",
              "    .dataframe tbody tr th:only-of-type {\n",
              "        vertical-align: middle;\n",
              "    }\n",
              "\n",
              "    .dataframe tbody tr th {\n",
              "        vertical-align: top;\n",
              "    }\n",
              "\n",
              "    .dataframe thead th {\n",
              "        text-align: right;\n",
              "    }\n",
              "</style>\n",
              "<table border=\"1\" class=\"dataframe\">\n",
              "  <thead>\n",
              "    <tr style=\"text-align: right;\">\n",
              "      <th></th>\n",
              "      <th>Timestamp</th>\n",
              "      <th>Entering Grade Level</th>\n",
              "      <th>District</th>\n",
              "      <th>Birth Month</th>\n",
              "      <th>OLSAT Verbal Score</th>\n",
              "      <th>OLSAT Verbal Percentile</th>\n",
              "      <th>NNAT Non Verbal Raw Score</th>\n",
              "      <th>NNAT Non Verbal Percentile</th>\n",
              "      <th>Overall Score</th>\n",
              "      <th>School Preferences</th>\n",
              "      <th>School Assigned</th>\n",
              "      <th>Will you enroll there?</th>\n",
              "    </tr>\n",
              "  </thead>\n",
              "  <tbody>\n",
              "    <tr>\n",
              "      <th>count</th>\n",
              "      <td>116</td>\n",
              "      <td>116</td>\n",
              "      <td>100.000000</td>\n",
              "      <td>116</td>\n",
              "      <td>116</td>\n",
              "      <td>116</td>\n",
              "      <td>116</td>\n",
              "      <td>116.000000</td>\n",
              "      <td>116.000000</td>\n",
              "      <td>74</td>\n",
              "      <td>28</td>\n",
              "      <td>70</td>\n",
              "    </tr>\n",
              "    <tr>\n",
              "      <th>unique</th>\n",
              "      <td>116</td>\n",
              "      <td>4</td>\n",
              "      <td>NaN</td>\n",
              "      <td>12</td>\n",
              "      <td>28</td>\n",
              "      <td>20</td>\n",
              "      <td>27</td>\n",
              "      <td>NaN</td>\n",
              "      <td>NaN</td>\n",
              "      <td>62</td>\n",
              "      <td>22</td>\n",
              "      <td>4</td>\n",
              "    </tr>\n",
              "    <tr>\n",
              "      <th>top</th>\n",
              "      <td>4/11/2017 20:01:30</td>\n",
              "      <td>K</td>\n",
              "      <td>NaN</td>\n",
              "      <td>January</td>\n",
              "      <td>28</td>\n",
              "      <td>99</td>\n",
              "      <td>40</td>\n",
              "      <td>NaN</td>\n",
              "      <td>NaN</td>\n",
              "      <td>Anderson</td>\n",
              "      <td>NEST</td>\n",
              "      <td>Yes</td>\n",
              "    </tr>\n",
              "    <tr>\n",
              "      <th>freq</th>\n",
              "      <td>1</td>\n",
              "      <td>76</td>\n",
              "      <td>NaN</td>\n",
              "      <td>17</td>\n",
              "      <td>18</td>\n",
              "      <td>51</td>\n",
              "      <td>13</td>\n",
              "      <td>NaN</td>\n",
              "      <td>NaN</td>\n",
              "      <td>6</td>\n",
              "      <td>3</td>\n",
              "      <td>43</td>\n",
              "    </tr>\n",
              "    <tr>\n",
              "      <th>mean</th>\n",
              "      <td>NaN</td>\n",
              "      <td>NaN</td>\n",
              "      <td>12.610000</td>\n",
              "      <td>NaN</td>\n",
              "      <td>NaN</td>\n",
              "      <td>NaN</td>\n",
              "      <td>NaN</td>\n",
              "      <td>98.629310</td>\n",
              "      <td>97.560345</td>\n",
              "      <td>NaN</td>\n",
              "      <td>NaN</td>\n",
              "      <td>NaN</td>\n",
              "    </tr>\n",
              "    <tr>\n",
              "      <th>std</th>\n",
              "      <td>NaN</td>\n",
              "      <td>NaN</td>\n",
              "      <td>11.414942</td>\n",
              "      <td>NaN</td>\n",
              "      <td>NaN</td>\n",
              "      <td>NaN</td>\n",
              "      <td>NaN</td>\n",
              "      <td>1.398945</td>\n",
              "      <td>2.810814</td>\n",
              "      <td>NaN</td>\n",
              "      <td>NaN</td>\n",
              "      <td>NaN</td>\n",
              "    </tr>\n",
              "    <tr>\n",
              "      <th>min</th>\n",
              "      <td>NaN</td>\n",
              "      <td>NaN</td>\n",
              "      <td>1.000000</td>\n",
              "      <td>NaN</td>\n",
              "      <td>NaN</td>\n",
              "      <td>NaN</td>\n",
              "      <td>NaN</td>\n",
              "      <td>90.000000</td>\n",
              "      <td>76.000000</td>\n",
              "      <td>NaN</td>\n",
              "      <td>NaN</td>\n",
              "      <td>NaN</td>\n",
              "    </tr>\n",
              "    <tr>\n",
              "      <th>25%</th>\n",
              "      <td>NaN</td>\n",
              "      <td>NaN</td>\n",
              "      <td>2.000000</td>\n",
              "      <td>NaN</td>\n",
              "      <td>NaN</td>\n",
              "      <td>NaN</td>\n",
              "      <td>NaN</td>\n",
              "      <td>99.000000</td>\n",
              "      <td>97.000000</td>\n",
              "      <td>NaN</td>\n",
              "      <td>NaN</td>\n",
              "      <td>NaN</td>\n",
              "    </tr>\n",
              "    <tr>\n",
              "      <th>50%</th>\n",
              "      <td>NaN</td>\n",
              "      <td>NaN</td>\n",
              "      <td>3.500000</td>\n",
              "      <td>NaN</td>\n",
              "      <td>NaN</td>\n",
              "      <td>NaN</td>\n",
              "      <td>NaN</td>\n",
              "      <td>99.000000</td>\n",
              "      <td>99.000000</td>\n",
              "      <td>NaN</td>\n",
              "      <td>NaN</td>\n",
              "      <td>NaN</td>\n",
              "    </tr>\n",
              "    <tr>\n",
              "      <th>75%</th>\n",
              "      <td>NaN</td>\n",
              "      <td>NaN</td>\n",
              "      <td>25.000000</td>\n",
              "      <td>NaN</td>\n",
              "      <td>NaN</td>\n",
              "      <td>NaN</td>\n",
              "      <td>NaN</td>\n",
              "      <td>99.000000</td>\n",
              "      <td>99.000000</td>\n",
              "      <td>NaN</td>\n",
              "      <td>NaN</td>\n",
              "      <td>NaN</td>\n",
              "    </tr>\n",
              "    <tr>\n",
              "      <th>max</th>\n",
              "      <td>NaN</td>\n",
              "      <td>NaN</td>\n",
              "      <td>32.000000</td>\n",
              "      <td>NaN</td>\n",
              "      <td>NaN</td>\n",
              "      <td>NaN</td>\n",
              "      <td>NaN</td>\n",
              "      <td>99.000000</td>\n",
              "      <td>99.000000</td>\n",
              "      <td>NaN</td>\n",
              "      <td>NaN</td>\n",
              "      <td>NaN</td>\n",
              "    </tr>\n",
              "  </tbody>\n",
              "</table>\n",
              "</div>"
            ],
            "text/plain": [
              "                 Timestamp  ... Will you enroll there?\n",
              "count                  116  ...                     70\n",
              "unique                 116  ...                      4\n",
              "top     4/11/2017 20:01:30  ...                    Yes\n",
              "freq                     1  ...                     43\n",
              "mean                   NaN  ...                    NaN\n",
              "std                    NaN  ...                    NaN\n",
              "min                    NaN  ...                    NaN\n",
              "25%                    NaN  ...                    NaN\n",
              "50%                    NaN  ...                    NaN\n",
              "75%                    NaN  ...                    NaN\n",
              "max                    NaN  ...                    NaN\n",
              "\n",
              "[11 rows x 12 columns]"
            ]
          },
          "metadata": {
            "tags": []
          },
          "execution_count": 23
        }
      ]
    },
    {
      "cell_type": "code",
      "metadata": {
        "id": "RedJwuot-OAs",
        "colab": {
          "base_uri": "https://localhost:8080/"
        },
        "outputId": "cd235ae0-68a1-4d29-8ddd-dfdecf9f94e3"
      },
      "source": [
        "dfscores.columns"
      ],
      "execution_count": 24,
      "outputs": [
        {
          "output_type": "execute_result",
          "data": {
            "text/plain": [
              "Index(['Timestamp', 'Entering Grade Level', 'District', 'Birth Month',\n",
              "       'OLSAT Verbal Score', 'OLSAT Verbal Percentile',\n",
              "       'NNAT Non Verbal Raw Score', 'NNAT Non Verbal Percentile',\n",
              "       'Overall Score', 'School Preferences', 'School Assigned',\n",
              "       'Will you enroll there?'],\n",
              "      dtype='object')"
            ]
          },
          "metadata": {
            "tags": []
          },
          "execution_count": 24
        }
      ]
    },
    {
      "cell_type": "code",
      "metadata": {
        "id": "MLwOiLTu-j0c",
        "colab": {
          "base_uri": "https://localhost:8080/"
        },
        "outputId": "0632faac-18c4-45df-b906-01801f5b3439"
      },
      "source": [
        "len(dfscores.columns)"
      ],
      "execution_count": 25,
      "outputs": [
        {
          "output_type": "execute_result",
          "data": {
            "text/plain": [
              "12"
            ]
          },
          "metadata": {
            "tags": []
          },
          "execution_count": 25
        }
      ]
    },
    {
      "cell_type": "code",
      "metadata": {
        "id": "jmZnDvuM-mcf"
      },
      "source": [
        "scoresnames = ['Timestamp', 'GradeLevel', 'District', 'BirthMonth',\n",
        "       'OLSATVerbalScore', 'OLSATVerbalPercentile',\n",
        "       'NNATNonVerbalRawScore', 'NNATNonVerbalPercentile',\n",
        "       'OverallScore', 'SchoolPreferences', 'SchoolAssigned',\n",
        "       'Enrolled']\n",
        "dfscores.columns = scoresnames"
      ],
      "execution_count": 26,
      "outputs": []
    },
    {
      "cell_type": "code",
      "metadata": {
        "id": "0A3B7dFC--Gu",
        "colab": {
          "base_uri": "https://localhost:8080/",
          "height": 638
        },
        "outputId": "83910649-4c1f-466f-dbe9-a0958ce90631"
      },
      "source": [
        "dfscores"
      ],
      "execution_count": 27,
      "outputs": [
        {
          "output_type": "execute_result",
          "data": {
            "text/html": [
              "<div>\n",
              "<style scoped>\n",
              "    .dataframe tbody tr th:only-of-type {\n",
              "        vertical-align: middle;\n",
              "    }\n",
              "\n",
              "    .dataframe tbody tr th {\n",
              "        vertical-align: top;\n",
              "    }\n",
              "\n",
              "    .dataframe thead th {\n",
              "        text-align: right;\n",
              "    }\n",
              "</style>\n",
              "<table border=\"1\" class=\"dataframe\">\n",
              "  <thead>\n",
              "    <tr style=\"text-align: right;\">\n",
              "      <th></th>\n",
              "      <th>Timestamp</th>\n",
              "      <th>GradeLevel</th>\n",
              "      <th>District</th>\n",
              "      <th>BirthMonth</th>\n",
              "      <th>OLSATVerbalScore</th>\n",
              "      <th>OLSATVerbalPercentile</th>\n",
              "      <th>NNATNonVerbalRawScore</th>\n",
              "      <th>NNATNonVerbalPercentile</th>\n",
              "      <th>OverallScore</th>\n",
              "      <th>SchoolPreferences</th>\n",
              "      <th>SchoolAssigned</th>\n",
              "      <th>Enrolled</th>\n",
              "    </tr>\n",
              "  </thead>\n",
              "  <tbody>\n",
              "    <tr>\n",
              "      <th>0</th>\n",
              "      <td>4/8/2017 6:44:01</td>\n",
              "      <td>1</td>\n",
              "      <td>6.0</td>\n",
              "      <td>September</td>\n",
              "      <td>28</td>\n",
              "      <td>99</td>\n",
              "      <td>45</td>\n",
              "      <td>99</td>\n",
              "      <td>99</td>\n",
              "      <td>NEST+m, TAG, Anderson, Q300</td>\n",
              "      <td>NEST</td>\n",
              "      <td>YES</td>\n",
              "    </tr>\n",
              "    <tr>\n",
              "      <th>1</th>\n",
              "      <td>4/7/2017 10:40:45</td>\n",
              "      <td>K</td>\n",
              "      <td>NaN</td>\n",
              "      <td>August</td>\n",
              "      <td>25</td>\n",
              "      <td>99</td>\n",
              "      <td>39</td>\n",
              "      <td>99</td>\n",
              "      <td>99</td>\n",
              "      <td>Anderson, NEST+m</td>\n",
              "      <td>NaN</td>\n",
              "      <td>Maybe</td>\n",
              "    </tr>\n",
              "    <tr>\n",
              "      <th>2</th>\n",
              "      <td>4/7/2017 10:41:56</td>\n",
              "      <td>1</td>\n",
              "      <td>NaN</td>\n",
              "      <td>March</td>\n",
              "      <td>27</td>\n",
              "      <td>96</td>\n",
              "      <td>42</td>\n",
              "      <td>99</td>\n",
              "      <td>98</td>\n",
              "      <td>NaN</td>\n",
              "      <td>NaN</td>\n",
              "      <td>Maybe</td>\n",
              "    </tr>\n",
              "    <tr>\n",
              "      <th>3</th>\n",
              "      <td>4/7/2017 10:43:31</td>\n",
              "      <td>K</td>\n",
              "      <td>NaN</td>\n",
              "      <td>September</td>\n",
              "      <td>23</td>\n",
              "      <td>97</td>\n",
              "      <td>40</td>\n",
              "      <td>99</td>\n",
              "      <td>98</td>\n",
              "      <td>NaN</td>\n",
              "      <td>NaN</td>\n",
              "      <td>NaN</td>\n",
              "    </tr>\n",
              "    <tr>\n",
              "      <th>4</th>\n",
              "      <td>4/10/2017 10:18:34</td>\n",
              "      <td>K</td>\n",
              "      <td>22.0</td>\n",
              "      <td>April</td>\n",
              "      <td>25</td>\n",
              "      <td>98</td>\n",
              "      <td>38</td>\n",
              "      <td>99</td>\n",
              "      <td>99</td>\n",
              "      <td>Brooklyn School of Inquiry</td>\n",
              "      <td>Currently - local Brooklyn dual language</td>\n",
              "      <td>Maybe</td>\n",
              "    </tr>\n",
              "    <tr>\n",
              "      <th>...</th>\n",
              "      <td>...</td>\n",
              "      <td>...</td>\n",
              "      <td>...</td>\n",
              "      <td>...</td>\n",
              "      <td>...</td>\n",
              "      <td>...</td>\n",
              "      <td>...</td>\n",
              "      <td>...</td>\n",
              "      <td>...</td>\n",
              "      <td>...</td>\n",
              "      <td>...</td>\n",
              "      <td>...</td>\n",
              "    </tr>\n",
              "    <tr>\n",
              "      <th>111</th>\n",
              "      <td>6/7/2017 23:25:27</td>\n",
              "      <td>K</td>\n",
              "      <td>2.0</td>\n",
              "      <td>December</td>\n",
              "      <td>99</td>\n",
              "      <td>99</td>\n",
              "      <td>99</td>\n",
              "      <td>99</td>\n",
              "      <td>99</td>\n",
              "      <td>NaN</td>\n",
              "      <td>NaN</td>\n",
              "      <td>Yes</td>\n",
              "    </tr>\n",
              "    <tr>\n",
              "      <th>112</th>\n",
              "      <td>6/20/2017 16:06:54</td>\n",
              "      <td>1</td>\n",
              "      <td>2.0</td>\n",
              "      <td>August</td>\n",
              "      <td>30</td>\n",
              "      <td>99</td>\n",
              "      <td>44</td>\n",
              "      <td>99</td>\n",
              "      <td>99</td>\n",
              "      <td>Lower Lab, Anderson, PS 11, NEST + m, Ps 33</td>\n",
              "      <td>Lower lab (off waitlist)</td>\n",
              "      <td>Yes</td>\n",
              "    </tr>\n",
              "    <tr>\n",
              "      <th>113</th>\n",
              "      <td>6/21/2017 22:52:59</td>\n",
              "      <td>K</td>\n",
              "      <td>20.0</td>\n",
              "      <td>July</td>\n",
              "      <td>97</td>\n",
              "      <td>97</td>\n",
              "      <td>97</td>\n",
              "      <td>99</td>\n",
              "      <td>98</td>\n",
              "      <td>PS229</td>\n",
              "      <td>Ps205</td>\n",
              "      <td>Yes</td>\n",
              "    </tr>\n",
              "    <tr>\n",
              "      <th>114</th>\n",
              "      <td>9/14/2017 16:39:55</td>\n",
              "      <td>K</td>\n",
              "      <td>32.0</td>\n",
              "      <td>February</td>\n",
              "      <td>26</td>\n",
              "      <td>99</td>\n",
              "      <td>40</td>\n",
              "      <td>99</td>\n",
              "      <td>99</td>\n",
              "      <td>NaN</td>\n",
              "      <td>NaN</td>\n",
              "      <td>Maybe</td>\n",
              "    </tr>\n",
              "    <tr>\n",
              "      <th>115</th>\n",
              "      <td>11/19/2017 17:07:05</td>\n",
              "      <td>K</td>\n",
              "      <td>4.0</td>\n",
              "      <td>April</td>\n",
              "      <td>19</td>\n",
              "      <td>84</td>\n",
              "      <td>33</td>\n",
              "      <td>95</td>\n",
              "      <td>91</td>\n",
              "      <td>Ps 102</td>\n",
              "      <td>Ps102</td>\n",
              "      <td>Yes</td>\n",
              "    </tr>\n",
              "  </tbody>\n",
              "</table>\n",
              "<p>116 rows × 12 columns</p>\n",
              "</div>"
            ],
            "text/plain": [
              "               Timestamp  ... Enrolled\n",
              "0       4/8/2017 6:44:01  ...      YES\n",
              "1      4/7/2017 10:40:45  ...    Maybe\n",
              "2      4/7/2017 10:41:56  ...    Maybe\n",
              "3      4/7/2017 10:43:31  ...      NaN\n",
              "4     4/10/2017 10:18:34  ...    Maybe\n",
              "..                   ...  ...      ...\n",
              "111    6/7/2017 23:25:27  ...      Yes\n",
              "112   6/20/2017 16:06:54  ...      Yes\n",
              "113   6/21/2017 22:52:59  ...      Yes\n",
              "114   9/14/2017 16:39:55  ...    Maybe\n",
              "115  11/19/2017 17:07:05  ...      Yes\n",
              "\n",
              "[116 rows x 12 columns]"
            ]
          },
          "metadata": {
            "tags": []
          },
          "execution_count": 27
        }
      ]
    },
    {
      "cell_type": "code",
      "metadata": {
        "id": "o9kbd3B9--7z",
        "colab": {
          "base_uri": "https://localhost:8080/"
        },
        "outputId": "aa6ae8da-603f-4143-f019-be9460decff1"
      },
      "source": [
        "dfscores['GradeLevel'].value_counts()"
      ],
      "execution_count": 28,
      "outputs": [
        {
          "output_type": "execute_result",
          "data": {
            "text/plain": [
              "K    76\n",
              "1    28\n",
              "2    10\n",
              "3     2\n",
              "Name: GradeLevel, dtype: int64"
            ]
          },
          "metadata": {
            "tags": []
          },
          "execution_count": 28
        }
      ]
    },
    {
      "cell_type": "code",
      "metadata": {
        "id": "YlwacIHX_M08"
      },
      "source": [
        "dfscores.loc[dfscores.GradeLevel == 'K'] = 0"
      ],
      "execution_count": 29,
      "outputs": []
    },
    {
      "cell_type": "code",
      "metadata": {
        "id": "FPzxCkbE_o1A",
        "colab": {
          "base_uri": "https://localhost:8080/"
        },
        "outputId": "a89b304c-030e-47d1-d872-823b3360a152"
      },
      "source": [
        "dfscores['GradeLevel'].value_counts()"
      ],
      "execution_count": 30,
      "outputs": [
        {
          "output_type": "execute_result",
          "data": {
            "text/plain": [
              "0    76\n",
              "1    28\n",
              "2    10\n",
              "3     2\n",
              "Name: GradeLevel, dtype: int64"
            ]
          },
          "metadata": {
            "tags": []
          },
          "execution_count": 30
        }
      ]
    },
    {
      "cell_type": "code",
      "metadata": {
        "id": "acqBzL-B_q5U",
        "colab": {
          "base_uri": "https://localhost:8080/"
        },
        "outputId": "dd7cb70c-5eef-4ee8-d7b8-906d5445b1df"
      },
      "source": [
        "dfscores.dtypes"
      ],
      "execution_count": 31,
      "outputs": [
        {
          "output_type": "execute_result",
          "data": {
            "text/plain": [
              "Timestamp                   object\n",
              "GradeLevel                  object\n",
              "District                   float64\n",
              "BirthMonth                  object\n",
              "OLSATVerbalScore            object\n",
              "OLSATVerbalPercentile       object\n",
              "NNATNonVerbalRawScore       object\n",
              "NNATNonVerbalPercentile      int64\n",
              "OverallScore                 int64\n",
              "SchoolPreferences           object\n",
              "SchoolAssigned              object\n",
              "Enrolled                    object\n",
              "dtype: object"
            ]
          },
          "metadata": {
            "tags": []
          },
          "execution_count": 31
        }
      ]
    },
    {
      "cell_type": "code",
      "metadata": {
        "id": "0Ym_gEs9_5EC"
      },
      "source": [
        "dfscores['GradeLevel'] = pd.to_numeric(dfscores['GradeLevel'])"
      ],
      "execution_count": 32,
      "outputs": []
    },
    {
      "cell_type": "code",
      "metadata": {
        "id": "aYQE7N7EAPOU",
        "colab": {
          "base_uri": "https://localhost:8080/"
        },
        "outputId": "2ce88dba-6c6e-4a6f-a3ff-bff9a83ab27a"
      },
      "source": [
        "dfscores.dtypes"
      ],
      "execution_count": 33,
      "outputs": [
        {
          "output_type": "execute_result",
          "data": {
            "text/plain": [
              "Timestamp                   object\n",
              "GradeLevel                   int64\n",
              "District                   float64\n",
              "BirthMonth                  object\n",
              "OLSATVerbalScore            object\n",
              "OLSATVerbalPercentile       object\n",
              "NNATNonVerbalRawScore       object\n",
              "NNATNonVerbalPercentile      int64\n",
              "OverallScore                 int64\n",
              "SchoolPreferences           object\n",
              "SchoolAssigned              object\n",
              "Enrolled                    object\n",
              "dtype: object"
            ]
          },
          "metadata": {
            "tags": []
          },
          "execution_count": 33
        }
      ]
    },
    {
      "cell_type": "code",
      "metadata": {
        "id": "wcUjtbsBAQ6N"
      },
      "source": [
        "dfscores['Timestamp'] = pd.to_datetime(dfscores['Timestamp'])"
      ],
      "execution_count": 34,
      "outputs": []
    },
    {
      "cell_type": "code",
      "metadata": {
        "id": "pvcqW9ncAh5_",
        "colab": {
          "base_uri": "https://localhost:8080/"
        },
        "outputId": "1e62497e-b62c-4815-f6cf-609650df1414"
      },
      "source": [
        "dfscores.dtypes"
      ],
      "execution_count": 35,
      "outputs": [
        {
          "output_type": "execute_result",
          "data": {
            "text/plain": [
              "Timestamp                  datetime64[ns]\n",
              "GradeLevel                          int64\n",
              "District                          float64\n",
              "BirthMonth                         object\n",
              "OLSATVerbalScore                   object\n",
              "OLSATVerbalPercentile              object\n",
              "NNATNonVerbalRawScore              object\n",
              "NNATNonVerbalPercentile             int64\n",
              "OverallScore                        int64\n",
              "SchoolPreferences                  object\n",
              "SchoolAssigned                     object\n",
              "Enrolled                           object\n",
              "dtype: object"
            ]
          },
          "metadata": {
            "tags": []
          },
          "execution_count": 35
        }
      ]
    },
    {
      "cell_type": "code",
      "metadata": {
        "id": "cHscolkuAjdm",
        "colab": {
          "base_uri": "https://localhost:8080/",
          "height": 622
        },
        "outputId": "d1ed5c5f-0574-4e84-a8f5-d5c53d72f290"
      },
      "source": [
        "dfscores"
      ],
      "execution_count": 36,
      "outputs": [
        {
          "output_type": "execute_result",
          "data": {
            "text/html": [
              "<div>\n",
              "<style scoped>\n",
              "    .dataframe tbody tr th:only-of-type {\n",
              "        vertical-align: middle;\n",
              "    }\n",
              "\n",
              "    .dataframe tbody tr th {\n",
              "        vertical-align: top;\n",
              "    }\n",
              "\n",
              "    .dataframe thead th {\n",
              "        text-align: right;\n",
              "    }\n",
              "</style>\n",
              "<table border=\"1\" class=\"dataframe\">\n",
              "  <thead>\n",
              "    <tr style=\"text-align: right;\">\n",
              "      <th></th>\n",
              "      <th>Timestamp</th>\n",
              "      <th>GradeLevel</th>\n",
              "      <th>District</th>\n",
              "      <th>BirthMonth</th>\n",
              "      <th>OLSATVerbalScore</th>\n",
              "      <th>OLSATVerbalPercentile</th>\n",
              "      <th>NNATNonVerbalRawScore</th>\n",
              "      <th>NNATNonVerbalPercentile</th>\n",
              "      <th>OverallScore</th>\n",
              "      <th>SchoolPreferences</th>\n",
              "      <th>SchoolAssigned</th>\n",
              "      <th>Enrolled</th>\n",
              "    </tr>\n",
              "  </thead>\n",
              "  <tbody>\n",
              "    <tr>\n",
              "      <th>0</th>\n",
              "      <td>2017-04-08 06:44:01</td>\n",
              "      <td>1</td>\n",
              "      <td>6.0</td>\n",
              "      <td>September</td>\n",
              "      <td>28</td>\n",
              "      <td>99</td>\n",
              "      <td>45</td>\n",
              "      <td>99</td>\n",
              "      <td>99</td>\n",
              "      <td>NEST+m, TAG, Anderson, Q300</td>\n",
              "      <td>NEST</td>\n",
              "      <td>YES</td>\n",
              "    </tr>\n",
              "    <tr>\n",
              "      <th>1</th>\n",
              "      <td>1970-01-01 00:00:00</td>\n",
              "      <td>0</td>\n",
              "      <td>0.0</td>\n",
              "      <td>0</td>\n",
              "      <td>0</td>\n",
              "      <td>0</td>\n",
              "      <td>0</td>\n",
              "      <td>0</td>\n",
              "      <td>0</td>\n",
              "      <td>0</td>\n",
              "      <td>0</td>\n",
              "      <td>0</td>\n",
              "    </tr>\n",
              "    <tr>\n",
              "      <th>2</th>\n",
              "      <td>2017-04-07 10:41:56</td>\n",
              "      <td>1</td>\n",
              "      <td>NaN</td>\n",
              "      <td>March</td>\n",
              "      <td>27</td>\n",
              "      <td>96</td>\n",
              "      <td>42</td>\n",
              "      <td>99</td>\n",
              "      <td>98</td>\n",
              "      <td>NaN</td>\n",
              "      <td>NaN</td>\n",
              "      <td>Maybe</td>\n",
              "    </tr>\n",
              "    <tr>\n",
              "      <th>3</th>\n",
              "      <td>1970-01-01 00:00:00</td>\n",
              "      <td>0</td>\n",
              "      <td>0.0</td>\n",
              "      <td>0</td>\n",
              "      <td>0</td>\n",
              "      <td>0</td>\n",
              "      <td>0</td>\n",
              "      <td>0</td>\n",
              "      <td>0</td>\n",
              "      <td>0</td>\n",
              "      <td>0</td>\n",
              "      <td>0</td>\n",
              "    </tr>\n",
              "    <tr>\n",
              "      <th>4</th>\n",
              "      <td>1970-01-01 00:00:00</td>\n",
              "      <td>0</td>\n",
              "      <td>0.0</td>\n",
              "      <td>0</td>\n",
              "      <td>0</td>\n",
              "      <td>0</td>\n",
              "      <td>0</td>\n",
              "      <td>0</td>\n",
              "      <td>0</td>\n",
              "      <td>0</td>\n",
              "      <td>0</td>\n",
              "      <td>0</td>\n",
              "    </tr>\n",
              "    <tr>\n",
              "      <th>...</th>\n",
              "      <td>...</td>\n",
              "      <td>...</td>\n",
              "      <td>...</td>\n",
              "      <td>...</td>\n",
              "      <td>...</td>\n",
              "      <td>...</td>\n",
              "      <td>...</td>\n",
              "      <td>...</td>\n",
              "      <td>...</td>\n",
              "      <td>...</td>\n",
              "      <td>...</td>\n",
              "      <td>...</td>\n",
              "    </tr>\n",
              "    <tr>\n",
              "      <th>111</th>\n",
              "      <td>1970-01-01 00:00:00</td>\n",
              "      <td>0</td>\n",
              "      <td>0.0</td>\n",
              "      <td>0</td>\n",
              "      <td>0</td>\n",
              "      <td>0</td>\n",
              "      <td>0</td>\n",
              "      <td>0</td>\n",
              "      <td>0</td>\n",
              "      <td>0</td>\n",
              "      <td>0</td>\n",
              "      <td>0</td>\n",
              "    </tr>\n",
              "    <tr>\n",
              "      <th>112</th>\n",
              "      <td>2017-06-20 16:06:54</td>\n",
              "      <td>1</td>\n",
              "      <td>2.0</td>\n",
              "      <td>August</td>\n",
              "      <td>30</td>\n",
              "      <td>99</td>\n",
              "      <td>44</td>\n",
              "      <td>99</td>\n",
              "      <td>99</td>\n",
              "      <td>Lower Lab, Anderson, PS 11, NEST + m, Ps 33</td>\n",
              "      <td>Lower lab (off waitlist)</td>\n",
              "      <td>Yes</td>\n",
              "    </tr>\n",
              "    <tr>\n",
              "      <th>113</th>\n",
              "      <td>1970-01-01 00:00:00</td>\n",
              "      <td>0</td>\n",
              "      <td>0.0</td>\n",
              "      <td>0</td>\n",
              "      <td>0</td>\n",
              "      <td>0</td>\n",
              "      <td>0</td>\n",
              "      <td>0</td>\n",
              "      <td>0</td>\n",
              "      <td>0</td>\n",
              "      <td>0</td>\n",
              "      <td>0</td>\n",
              "    </tr>\n",
              "    <tr>\n",
              "      <th>114</th>\n",
              "      <td>1970-01-01 00:00:00</td>\n",
              "      <td>0</td>\n",
              "      <td>0.0</td>\n",
              "      <td>0</td>\n",
              "      <td>0</td>\n",
              "      <td>0</td>\n",
              "      <td>0</td>\n",
              "      <td>0</td>\n",
              "      <td>0</td>\n",
              "      <td>0</td>\n",
              "      <td>0</td>\n",
              "      <td>0</td>\n",
              "    </tr>\n",
              "    <tr>\n",
              "      <th>115</th>\n",
              "      <td>1970-01-01 00:00:00</td>\n",
              "      <td>0</td>\n",
              "      <td>0.0</td>\n",
              "      <td>0</td>\n",
              "      <td>0</td>\n",
              "      <td>0</td>\n",
              "      <td>0</td>\n",
              "      <td>0</td>\n",
              "      <td>0</td>\n",
              "      <td>0</td>\n",
              "      <td>0</td>\n",
              "      <td>0</td>\n",
              "    </tr>\n",
              "  </tbody>\n",
              "</table>\n",
              "<p>116 rows × 12 columns</p>\n",
              "</div>"
            ],
            "text/plain": [
              "              Timestamp  GradeLevel  ...            SchoolAssigned Enrolled\n",
              "0   2017-04-08 06:44:01           1  ...                      NEST      YES\n",
              "1   1970-01-01 00:00:00           0  ...                         0        0\n",
              "2   2017-04-07 10:41:56           1  ...                       NaN    Maybe\n",
              "3   1970-01-01 00:00:00           0  ...                         0        0\n",
              "4   1970-01-01 00:00:00           0  ...                         0        0\n",
              "..                  ...         ...  ...                       ...      ...\n",
              "111 1970-01-01 00:00:00           0  ...                         0        0\n",
              "112 2017-06-20 16:06:54           1  ...  Lower lab (off waitlist)      Yes\n",
              "113 1970-01-01 00:00:00           0  ...                         0        0\n",
              "114 1970-01-01 00:00:00           0  ...                         0        0\n",
              "115 1970-01-01 00:00:00           0  ...                         0        0\n",
              "\n",
              "[116 rows x 12 columns]"
            ]
          },
          "metadata": {
            "tags": []
          },
          "execution_count": 36
        }
      ]
    },
    {
      "cell_type": "code",
      "metadata": {
        "id": "bx29qRicAmRY",
        "colab": {
          "base_uri": "https://localhost:8080/"
        },
        "outputId": "d1090a6c-4eef-4807-c6ce-c50c44ad14a3"
      },
      "source": [
        "mapto = {\"January\": 1, \"February\": 2, \"March\":3, \"April\":4, \"May\":5, \"June\":6, \"July\":7, \"August\":8, \"September\":9, \"October\":10, \"November\":11, \"December\":12}\n",
        "dfscores['BirthMonth'] = dfscores['BirthMonth'].map(mapto)\n",
        "print(dfscores)"
      ],
      "execution_count": 37,
      "outputs": [
        {
          "output_type": "stream",
          "text": [
            "              Timestamp  GradeLevel  ...            SchoolAssigned  Enrolled\n",
            "0   2017-04-08 06:44:01           1  ...                      NEST       YES\n",
            "1   1970-01-01 00:00:00           0  ...                         0         0\n",
            "2   2017-04-07 10:41:56           1  ...                       NaN     Maybe\n",
            "3   1970-01-01 00:00:00           0  ...                         0         0\n",
            "4   1970-01-01 00:00:00           0  ...                         0         0\n",
            "..                  ...         ...  ...                       ...       ...\n",
            "111 1970-01-01 00:00:00           0  ...                         0         0\n",
            "112 2017-06-20 16:06:54           1  ...  Lower lab (off waitlist)       Yes\n",
            "113 1970-01-01 00:00:00           0  ...                         0         0\n",
            "114 1970-01-01 00:00:00           0  ...                         0         0\n",
            "115 1970-01-01 00:00:00           0  ...                         0         0\n",
            "\n",
            "[116 rows x 12 columns]\n"
          ],
          "name": "stdout"
        }
      ]
    },
    {
      "cell_type": "code",
      "metadata": {
        "id": "Tf4fc9V79hCi"
      },
      "source": [
        ""
      ],
      "execution_count": null,
      "outputs": []
    }
  ]
}